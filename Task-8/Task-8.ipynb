{
 "cells": [
  {
   "cell_type": "code",
   "execution_count": 49,
   "metadata": {},
   "outputs": [],
   "source": [
    "import numpy as np\n",
    "import sys"
   ]
  },
  {
   "cell_type": "code",
   "execution_count": 50,
   "metadata": {},
   "outputs": [
    {
     "name": "stdout",
     "output_type": "stream",
     "text": [
      "[10 11 12 13 14]\n",
      "[0. 0. 0. 0. 0. 0. 0. 0. 0. 0. 0. 0. 0. 0. 0. 0. 0. 0. 0. 0. 0. 0. 0. 0.\n",
      " 0.]\n",
      "[10.  0.  0.  0.  0.  0. 11.  0.  0.  0.  0.  0. 12.  0.  0.  0.  0.  0.\n",
      " 13.  0.  0.  0.  0.  0. 14.]\n"
     ]
    }
   ],
   "source": [
    "#1\n",
    "a= input(\"first number: \")\n",
    "b= input(\"second number: \")\n",
    "c=int(b)-int(a)+1\n",
    "x=[]\n",
    "for i in range(0,c):\n",
    "    x.append(int(a)+i)\n",
    "v=np.array(x)  # input vector\n",
    "print(v) \n",
    "j=input(\"No. of zeroes to interleave: \")\n",
    "k=len(v) #gives length of array v\n",
    "z=np.zeros(k+(k-1)*(int(j))) # make an array with enough number of zeroes so we can reploace with the values from v \n",
    "print(z) #first k is for number of elements we are replacing (k-1)j is the number of zeroes we need.\n",
    "z[::int(j)+1]=v # replace zeroes with the values from v at step size of j+1(since j zeroes must be interleaved)\n",
    "print(z)"
   ]
  },
  {
   "cell_type": "code",
   "execution_count": 51,
   "metadata": {},
   "outputs": [
    {
     "name": "stdout",
     "output_type": "stream",
     "text": [
      "First Array:  [[0 3 0 4 0 5]]\n",
      "Second Array:  [[11  5  5  7  7  1]]\n",
      "False\n"
     ]
    }
   ],
   "source": [
    "#2\n",
    "A=np.random.randint(0,10,size=(1,6)) # made 2 random arrays and used np.array_equal function\n",
    "B=np.random.randint(0,13,size=(1,6))\n",
    "print(\"First Array: \",A)\n",
    "print(\"Second Array: \",B)\n",
    "print(np.array_equal(A,B)) # Prints boolean output"
   ]
  },
  {
   "cell_type": "code",
   "execution_count": 58,
   "metadata": {},
   "outputs": [
    {
     "name": "stdout",
     "output_type": "stream",
     "text": [
      "nan\n",
      "True\n",
      "False\n",
      "nan\n",
      "False\n",
      "0.30000000000000004\n"
     ]
    }
   ],
   "source": [
    "#3\n",
    "print(0 * np.nan)  # any operation on NaN is NaN\n",
    "print(np.nan != np.nan) # We dont know if the NaN id greater than lower than or equal to the Other NaN\n",
    "print(np.inf > np.nan) # Comparision of an number with something which is not a number is impossible\n",
    "print(np.nan - np.nan) # We dont know which NaN is bigger \n",
    "print(0.3 == 3 * 0.1)  # in python calculations are done in binary system, while we do it in decimal system \n",
    "# Added explanation\n",
    "print(3 * 0.1) #as we can see it is equal to 0.3 upto 16 significant digits and we get changes in 17th digit so we can say python is\n",
    "               #accurate upto 16 significant digits "
   ]
  },
  {
   "cell_type": "code",
   "execution_count": 53,
   "metadata": {},
   "outputs": [
    {
     "name": "stdout",
     "output_type": "stream",
     "text": [
      "Original Series: \n",
      "0         amrita\n",
      "1         school\n",
      "2             of\n",
      "3    engineering\n",
      "4        chennai\n",
      "5         campus\n",
      "dtype: object\n",
      "\n",
      "New Series: \n",
      "0         Amrita\n",
      "1         School\n",
      "2             Of\n",
      "3    Engineering\n",
      "4        Chennai\n",
      "5         Campus\n",
      "dtype: object\n"
     ]
    }
   ],
   "source": [
    "#4\n",
    "import pandas as pd\n",
    "ser = pd.Series(['amrita', 'school', 'of', 'engineering' , 'chennai' , 'campus'])\n",
    "ser_1= ser.str.title()   #using inbuilt function for Making starting letter Capital\n",
    "print(\"Original Series: \")\n",
    "print(ser)\n",
    "print(\"\\nNew Series: \")\n",
    "print(ser_1)"
   ]
  },
  {
   "cell_type": "code",
   "execution_count": 57,
   "metadata": {},
   "outputs": [
    {
     "name": "stdout",
     "output_type": "stream",
     "text": [
      "1. Addition of 2 numpy arrays\n",
      "First array:  [[7 0 8 4 0 2 6 2 5 4]]\n",
      "Second Array:  [[ 9 12 14  8  8  1  0  3  7  9]]\n",
      "Sum of Arrays:  [[16 12 22 12  8  3  6  5 12 13]]\n",
      "7 Getting matching array indices\n",
      "First Array:  [1 2 3 6 9 8 0 6 1]\n",
      "Second Array:  [1 2 8 9 0 7 8 9 5]\n",
      "Equal indicies:  (array([0, 1], dtype=int64),)\n"
     ]
    }
   ],
   "source": [
    "#5\n",
    "#1. Addition of 2 numpy arrays\n",
    "print(\"1. Addition of 2 numpy arrays\")\n",
    "a=np.random.randint(0,9,size=(1,10))\n",
    "b=np.random.randint(0,15,size=(1,10))\n",
    "print(\"First array: \",a)\n",
    "print(\"Second Array: \",b)\n",
    "c=np.add(a,b)   #Using np.add funtion\n",
    "print(\"Sum of Arrays: \",c)\n",
    "#7 Getting matching array indices \n",
    "print(\"7 Getting matching array indices\")\n",
    "g=np.array([1,2,3,6,9,8,0,6,1])\n",
    "h=np.array([1,2,8,9,0,7,8,9,5])\n",
    "print(\"First Array: \",g)\n",
    "print(\"Second Array: \",h)\n",
    "c_1=np.where(g==h)  #Using np.where to check for equal indicies\n",
    "print(\"Equal indicies: \",c_1)\n"
   ]
  }
 ],
 "metadata": {
  "interpreter": {
   "hash": "b25a2409a2f77064e8d02eb9ceabe38e4d95ca1a9d762dfe304f67b7f6943cbe"
  },
  "kernelspec": {
   "display_name": "Python 3.9.7 ('base')",
   "language": "python",
   "name": "python3"
  },
  "language_info": {
   "codemirror_mode": {
    "name": "ipython",
    "version": 3
   },
   "file_extension": ".py",
   "mimetype": "text/x-python",
   "name": "python",
   "nbconvert_exporter": "python",
   "pygments_lexer": "ipython3",
   "version": "3.9.7"
  },
  "orig_nbformat": 4
 },
 "nbformat": 4,
 "nbformat_minor": 2
}
